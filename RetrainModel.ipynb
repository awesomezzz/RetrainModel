{
  "nbformat": 4,
  "nbformat_minor": 0,
  "metadata": {
    "kernelspec": {
      "display_name": "Python 3",
      "language": "python",
      "name": "python3"
    },
    "language_info": {
      "codemirror_mode": {
        "name": "ipython",
        "version": 3
      },
      "file_extension": ".py",
      "mimetype": "text/x-python",
      "name": "python",
      "nbconvert_exporter": "python",
      "pygments_lexer": "ipython3",
      "version": "3.6.8"
    },
    "colab": {
      "name": "190518_resume_train_210204_上傳github.ipynb",
      "provenance": [],
      "collapsed_sections": []
    }
  },
  "cells": [
    {
      "cell_type": "markdown",
      "metadata": {
        "id": "COMa_9xaxCns"
      },
      "source": [
        "# Retrain Model\n",
        "\n",
        "### ***加強model\n",
        "\n"
      ]
    },
    {
      "cell_type": "code",
      "metadata": {
        "scrolled": true,
        "id": "SYY2NtNPxCns",
        "outputId": "63601031-ef50-49bc-e397-77034ce1bd77"
      },
      "source": [
        "from keras.preprocessing.image import ImageDataGenerator\n",
        "from keras.models import load_model\n",
        "from keras.optimizers import Adam\n",
        "from keras.losses import categorical_crossentropy\n",
        "from keras.applications.xception import preprocess_input \n",
        "import math\n",
        "\n",
        "\n",
        "TS        = 299   #target_size\n",
        "EPOCH       = 30\n",
        "BATCH_SIZE    = 15\n",
        "SEED       = 13\n",
        "\n",
        "dataset = './dataset'\n",
        "model   = load_model(\"xceptionmodel.h5\")  #讀取model\n",
        "\n",
        "\n",
        "data_datagen = ImageDataGenerator(\n",
        "   rotation_range        = 360,   #旋轉範圍，隨機旋轉\n",
        "   width_shift_range      = 0.2,   #隨機沿著水平方向，以圖像的長寬小部分百分比為變化範圍進行平移\n",
        "   height_shift_range     = 0.2,   #隨機沿著垂直方向，以圖像的長寬小部分百分比為變化範圍進行平移\n",
        "   channel_shift_range     = 50,   #隨機通道轉換的範圍\n",
        "   shear_range         = 0.2,   #水平或垂直投影變換\n",
        "   zoom_range          = 0.2,   #按比例隨機縮放圖像尺寸\n",
        "   horizontal_flip        = True,  #水平翻轉圖像\n",
        "   preprocessing_function  =  preprocess_input,\n",
        "   validation_split       = 0.33 )  #保留用於驗證的圖像的比例（嚴格在0和1之間）\n",
        "    \n",
        "\n",
        "train_generator = data_datagen.flow_from_directory(\n",
        "    dataset, \n",
        "    target_size = (TS, TS), \n",
        "    shuffle    = True, \n",
        "    seed     = SEED,\n",
        "    class_mode  = 'categorical', \n",
        "    batch_size  = BATCH_SIZE, \n",
        "    subset      = \"training\")\n",
        "\n",
        "validation_generator = data_datagen.flow_from_directory(\n",
        "    dataset,\n",
        "    target_size = (TS, TS),\n",
        "    shuffle    = True,\n",
        "    seed     = SEED,                                        \n",
        "    class_mode  = 'categorical',\n",
        "    batch_size  = BATCH_SIZE ,\n",
        "    subset      = \"validation\" )\n",
        "\n",
        "\n",
        "\n",
        "model.fit_generator(\n",
        "    train_generator, \n",
        "    steps_per_epoch = math.ceil(len(train_generator.filenames) /BATCH_SIZE),\n",
        "    epochs          = EPOCH,\n",
        "    validation_data = validation_generator )\n",
        "\n",
        "\n"
      ],
      "execution_count": null,
      "outputs": [
        {
          "output_type": "stream",
          "text": [
            "Using TensorFlow backend.\n"
          ],
          "name": "stderr"
        },
        {
          "output_type": "stream",
          "text": [
            "Found 82 images belonging to 5 classes.\n",
            "Found 37 images belonging to 5 classes.\n",
            "Epoch 1/30\n",
            "6/6 [==============================] - 9s 1s/step - loss: 0.1460 - acc: 0.9775 - val_loss: 0.0552 - val_acc: 0.9730\n",
            "Epoch 2/30\n",
            "6/6 [==============================] - 3s 563ms/step - loss: 0.1315 - acc: 0.9666 - val_loss: 0.0011 - val_acc: 1.0000\n",
            "Epoch 3/30\n",
            "6/6 [==============================] - 3s 555ms/step - loss: 0.0086 - acc: 1.0000 - val_loss: 4.5556e-04 - val_acc: 1.0000\n",
            "Epoch 4/30\n",
            "6/6 [==============================] - 3s 557ms/step - loss: 0.0471 - acc: 0.9775 - val_loss: 0.2815 - val_acc: 0.9730\n",
            "Epoch 5/30\n",
            "6/6 [==============================] - 3s 552ms/step - loss: 0.0782 - acc: 0.9887 - val_loss: 0.1892 - val_acc: 0.9459\n",
            "Epoch 6/30\n",
            "6/6 [==============================] - 3s 554ms/step - loss: 0.0456 - acc: 0.9775 - val_loss: 0.1536 - val_acc: 0.9730\n",
            "Epoch 7/30\n",
            "6/6 [==============================] - 3s 558ms/step - loss: 0.2497 - acc: 0.9441 - val_loss: 0.0137 - val_acc: 1.0000\n",
            "Epoch 8/30\n",
            "6/6 [==============================] - 3s 555ms/step - loss: 0.0240 - acc: 0.9887 - val_loss: 0.0011 - val_acc: 1.0000\n",
            "Epoch 9/30\n",
            "6/6 [==============================] - 3s 552ms/step - loss: 0.0916 - acc: 0.9549 - val_loss: 0.0050 - val_acc: 1.0000\n",
            "Epoch 10/30\n",
            "6/6 [==============================] - 3s 554ms/step - loss: 0.1099 - acc: 0.9662 - val_loss: 0.3055 - val_acc: 0.9459\n",
            "Epoch 11/30\n",
            "6/6 [==============================] - 3s 552ms/step - loss: 0.0060 - acc: 1.0000 - val_loss: 0.0174 - val_acc: 1.0000\n",
            "Epoch 12/30\n",
            "6/6 [==============================] - 3s 555ms/step - loss: 0.0264 - acc: 0.9887 - val_loss: 0.1439 - val_acc: 0.9730\n",
            "Epoch 13/30\n",
            "6/6 [==============================] - 3s 565ms/step - loss: 0.0636 - acc: 0.9887 - val_loss: 0.1976 - val_acc: 0.9730\n",
            "Epoch 14/30\n",
            "6/6 [==============================] - 3s 560ms/step - loss: 0.1302 - acc: 0.9662 - val_loss: 0.1718 - val_acc: 0.9459\n",
            "Epoch 15/30\n",
            "6/6 [==============================] - 3s 562ms/step - loss: 0.0062 - acc: 1.0000 - val_loss: 0.0278 - val_acc: 0.9730\n",
            "Epoch 16/30\n",
            "6/6 [==============================] - 3s 559ms/step - loss: 0.0661 - acc: 0.9662 - val_loss: 0.0167 - val_acc: 1.0000\n",
            "Epoch 17/30\n",
            "6/6 [==============================] - 3s 560ms/step - loss: 0.0225 - acc: 0.9887 - val_loss: 0.0509 - val_acc: 0.9730\n",
            "Epoch 18/30\n",
            "6/6 [==============================] - 3s 560ms/step - loss: 0.1300 - acc: 0.9778 - val_loss: 0.0092 - val_acc: 1.0000\n",
            "Epoch 19/30\n",
            "6/6 [==============================] - 3s 562ms/step - loss: 0.0172 - acc: 1.0000 - val_loss: 0.0081 - val_acc: 1.0000\n",
            "Epoch 20/30\n",
            "6/6 [==============================] - 3s 569ms/step - loss: 0.0479 - acc: 0.9887 - val_loss: 0.0112 - val_acc: 1.0000\n",
            "Epoch 21/30\n",
            "6/6 [==============================] - 3s 561ms/step - loss: 0.0062 - acc: 1.0000 - val_loss: 0.0073 - val_acc: 1.0000\n",
            "Epoch 22/30\n",
            "6/6 [==============================] - 3s 562ms/step - loss: 0.1198 - acc: 0.9666 - val_loss: 0.0354 - val_acc: 0.9730\n",
            "Epoch 23/30\n",
            "6/6 [==============================] - 3s 552ms/step - loss: 0.0026 - acc: 1.0000 - val_loss: 0.0094 - val_acc: 1.0000\n",
            "Epoch 24/30\n",
            "6/6 [==============================] - 3s 552ms/step - loss: 0.0019 - acc: 1.0000 - val_loss: 0.0017 - val_acc: 1.0000\n",
            "Epoch 25/30\n",
            "6/6 [==============================] - 3s 559ms/step - loss: 0.0112 - acc: 1.0000 - val_loss: 0.0091 - val_acc: 1.0000\n",
            "Epoch 26/30\n",
            "6/6 [==============================] - 3s 555ms/step - loss: 0.0219 - acc: 1.0000 - val_loss: 0.0209 - val_acc: 1.0000\n",
            "Epoch 27/30\n",
            "6/6 [==============================] - 3s 561ms/step - loss: 0.0117 - acc: 1.0000 - val_loss: 0.0181 - val_acc: 1.0000\n",
            "Epoch 28/30\n",
            "6/6 [==============================] - 3s 567ms/step - loss: 0.0184 - acc: 0.9887 - val_loss: 0.0032 - val_acc: 1.0000\n",
            "Epoch 29/30\n",
            "6/6 [==============================] - 3s 567ms/step - loss: 0.0035 - acc: 1.0000 - val_loss: 0.0015 - val_acc: 1.0000\n",
            "Epoch 30/30\n",
            "6/6 [==============================] - 3s 560ms/step - loss: 0.0027 - acc: 1.0000 - val_loss: 0.0061 - val_acc: 1.0000\n"
          ],
          "name": "stdout"
        },
        {
          "output_type": "execute_result",
          "data": {
            "text/plain": [
              "<keras.callbacks.History at 0x7f3e1a3fae80>"
            ]
          },
          "metadata": {
            "tags": []
          },
          "execution_count": 1
        }
      ]
    },
    {
      "cell_type": "code",
      "metadata": {
        "id": "gueZxGq4xCnu"
      },
      "source": [
        "model.save('New_xceptionmodel.h5')"
      ],
      "execution_count": null,
      "outputs": []
    },
    {
      "cell_type": "code",
      "metadata": {
        "id": "ibFuG8Sg2oS_"
      },
      "source": [
        ""
      ],
      "execution_count": null,
      "outputs": []
    }
  ]
}